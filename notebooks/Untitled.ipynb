{
 "cells": [
  {
   "cell_type": "code",
   "execution_count": 6,
   "id": "85869232",
   "metadata": {},
   "outputs": [],
   "source": [
    "import random\n",
    "import itertools as it"
   ]
  },
  {
   "cell_type": "code",
   "execution_count": 7,
   "id": "93da8b10",
   "metadata": {},
   "outputs": [
    {
     "data": {
      "text/plain": [
       "['Abstract Expressionism',\n",
       " 'Art Nouveau Modern',\n",
       " 'Baroque',\n",
       " 'Color Field Painting',\n",
       " 'Cubism',\n",
       " 'Expressionism',\n",
       " 'Impressionism',\n",
       " 'Naive Art Primitivism',\n",
       " 'Northern Renaissance',\n",
       " 'Pop Art',\n",
       " 'Post Impressionism',\n",
       " 'Realism',\n",
       " 'Rococo',\n",
       " 'Romanticism',\n",
       " 'Symbolism']"
      ]
     },
     "execution_count": 7,
     "metadata": {},
     "output_type": "execute_result"
    }
   ],
   "source": [
    "real_genre = 'some genre'\n",
    "\n",
    "## Get user input\n",
    "\n",
    "# full list of available genres\n",
    "genre_list = ['Abstract Expressionism',\n",
    " 'Art Nouveau Modern',\n",
    " 'Baroque',\n",
    " 'Color Field Painting',\n",
    " 'Cubism',\n",
    " 'Expressionism',\n",
    " 'Impressionism',\n",
    " 'Naive Art Primitivism',\n",
    " 'Northern Renaissance',\n",
    " 'Pop Art',\n",
    " 'Post Impressionism',\n",
    " 'Realism',\n",
    " 'Rococo',\n",
    " 'Romanticism',\n",
    " 'Symbolism']\n",
    "genre_list"
   ]
  },
  {
   "cell_type": "code",
   "execution_count": 9,
   "id": "094522b1",
   "metadata": {},
   "outputs": [],
   "source": [
    "list=random.shuffle(genre_list)"
   ]
  },
  {
   "cell_type": "code",
   "execution_count": 10,
   "id": "dc9427c4",
   "metadata": {},
   "outputs": [
    {
     "name": "stdout",
     "output_type": "stream",
     "text": [
      "None\n"
     ]
    }
   ],
   "source": [
    "print(list)"
   ]
  },
  {
   "cell_type": "code",
   "execution_count": null,
   "id": "3e9f9441",
   "metadata": {},
   "outputs": [],
   "source": []
  }
 ],
 "metadata": {
  "kernelspec": {
   "display_name": "Python 3 (ipykernel)",
   "language": "python",
   "name": "python3"
  },
  "language_info": {
   "codemirror_mode": {
    "name": "ipython",
    "version": 3
   },
   "file_extension": ".py",
   "mimetype": "text/x-python",
   "name": "python",
   "nbconvert_exporter": "python",
   "pygments_lexer": "ipython3",
   "version": "3.8.12"
  },
  "toc": {
   "base_numbering": 1,
   "nav_menu": {},
   "number_sections": true,
   "sideBar": true,
   "skip_h1_title": false,
   "title_cell": "Table of Contents",
   "title_sidebar": "Contents",
   "toc_cell": false,
   "toc_position": {},
   "toc_section_display": true,
   "toc_window_display": false
  }
 },
 "nbformat": 4,
 "nbformat_minor": 5
}
