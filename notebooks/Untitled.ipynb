{
 "cells": [
  {
   "cell_type": "code",
   "execution_count": 1,
   "id": "85869232",
   "metadata": {},
   "outputs": [],
   "source": [
    "import random\n",
    "import itertools as it\n",
    "import pandas as pd\n",
    "import numpy as np"
   ]
  },
  {
   "cell_type": "code",
   "execution_count": 7,
   "id": "93da8b10",
   "metadata": {},
   "outputs": [
    {
     "data": {
      "text/plain": [
       "['Abstract Expressionism',\n",
       " 'Art Nouveau Modern',\n",
       " 'Baroque',\n",
       " 'Color Field Painting',\n",
       " 'Cubism',\n",
       " 'Expressionism',\n",
       " 'Impressionism',\n",
       " 'Naive Art Primitivism',\n",
       " 'Northern Renaissance',\n",
       " 'Pop Art',\n",
       " 'Post Impressionism',\n",
       " 'Realism',\n",
       " 'Rococo',\n",
       " 'Romanticism',\n",
       " 'Symbolism']"
      ]
     },
     "execution_count": 7,
     "metadata": {},
     "output_type": "execute_result"
    }
   ],
   "source": [
    "real_genre = 'some genre'\n",
    "\n",
    "## Get user input\n",
    "\n",
    "# full list of available genres\n",
    "genre_list = ['Abstract Expressionism',\n",
    " 'Art Nouveau Modern',\n",
    " 'Baroque',\n",
    " 'Color Field Painting',\n",
    " 'Cubism',\n",
    " 'Expressionism',\n",
    " 'Impressionism',\n",
    " 'Naive Art Primitivism',\n",
    " 'Northern Renaissance',\n",
    " 'Pop Art',\n",
    " 'Post Impressionism',\n",
    " 'Realism',\n",
    " 'Rococo',\n",
    " 'Romanticism',\n",
    " 'Symbolism']\n",
    "genre_list"
   ]
  },
  {
   "cell_type": "code",
   "execution_count": 9,
   "id": "094522b1",
   "metadata": {},
   "outputs": [],
   "source": [
    "list=random.shuffle(genre_list)"
   ]
  },
  {
   "cell_type": "code",
   "execution_count": 10,
   "id": "dc9427c4",
   "metadata": {},
   "outputs": [
    {
     "name": "stdout",
     "output_type": "stream",
     "text": [
      "None\n"
     ]
    }
   ],
   "source": [
    "print(list)"
   ]
  },
  {
   "cell_type": "code",
   "execution_count": 10,
   "id": "3e9f9441",
   "metadata": {},
   "outputs": [],
   "source": [
    "df=pd.DataFrame(index=np.arange(10), columns=np.arange(5))"
   ]
  },
  {
   "cell_type": "code",
   "execution_count": 11,
   "id": "059f1c8a",
   "metadata": {},
   "outputs": [
    {
     "data": {
      "text/html": [
       "<div>\n",
       "<style scoped>\n",
       "    .dataframe tbody tr th:only-of-type {\n",
       "        vertical-align: middle;\n",
       "    }\n",
       "\n",
       "    .dataframe tbody tr th {\n",
       "        vertical-align: top;\n",
       "    }\n",
       "\n",
       "    .dataframe thead th {\n",
       "        text-align: right;\n",
       "    }\n",
       "</style>\n",
       "<table border=\"1\" class=\"dataframe\">\n",
       "  <thead>\n",
       "    <tr style=\"text-align: right;\">\n",
       "      <th></th>\n",
       "      <th>0</th>\n",
       "      <th>1</th>\n",
       "      <th>2</th>\n",
       "      <th>3</th>\n",
       "      <th>4</th>\n",
       "    </tr>\n",
       "  </thead>\n",
       "  <tbody>\n",
       "    <tr>\n",
       "      <th>0</th>\n",
       "      <td>NaN</td>\n",
       "      <td>NaN</td>\n",
       "      <td>NaN</td>\n",
       "      <td>NaN</td>\n",
       "      <td>NaN</td>\n",
       "    </tr>\n",
       "    <tr>\n",
       "      <th>1</th>\n",
       "      <td>NaN</td>\n",
       "      <td>NaN</td>\n",
       "      <td>NaN</td>\n",
       "      <td>NaN</td>\n",
       "      <td>NaN</td>\n",
       "    </tr>\n",
       "    <tr>\n",
       "      <th>2</th>\n",
       "      <td>NaN</td>\n",
       "      <td>NaN</td>\n",
       "      <td>NaN</td>\n",
       "      <td>NaN</td>\n",
       "      <td>NaN</td>\n",
       "    </tr>\n",
       "    <tr>\n",
       "      <th>3</th>\n",
       "      <td>NaN</td>\n",
       "      <td>NaN</td>\n",
       "      <td>NaN</td>\n",
       "      <td>NaN</td>\n",
       "      <td>NaN</td>\n",
       "    </tr>\n",
       "    <tr>\n",
       "      <th>4</th>\n",
       "      <td>NaN</td>\n",
       "      <td>NaN</td>\n",
       "      <td>NaN</td>\n",
       "      <td>NaN</td>\n",
       "      <td>NaN</td>\n",
       "    </tr>\n",
       "    <tr>\n",
       "      <th>5</th>\n",
       "      <td>NaN</td>\n",
       "      <td>NaN</td>\n",
       "      <td>NaN</td>\n",
       "      <td>NaN</td>\n",
       "      <td>NaN</td>\n",
       "    </tr>\n",
       "    <tr>\n",
       "      <th>6</th>\n",
       "      <td>NaN</td>\n",
       "      <td>NaN</td>\n",
       "      <td>NaN</td>\n",
       "      <td>NaN</td>\n",
       "      <td>NaN</td>\n",
       "    </tr>\n",
       "    <tr>\n",
       "      <th>7</th>\n",
       "      <td>NaN</td>\n",
       "      <td>NaN</td>\n",
       "      <td>NaN</td>\n",
       "      <td>NaN</td>\n",
       "      <td>NaN</td>\n",
       "    </tr>\n",
       "    <tr>\n",
       "      <th>8</th>\n",
       "      <td>NaN</td>\n",
       "      <td>NaN</td>\n",
       "      <td>NaN</td>\n",
       "      <td>NaN</td>\n",
       "      <td>NaN</td>\n",
       "    </tr>\n",
       "    <tr>\n",
       "      <th>9</th>\n",
       "      <td>NaN</td>\n",
       "      <td>NaN</td>\n",
       "      <td>NaN</td>\n",
       "      <td>NaN</td>\n",
       "      <td>NaN</td>\n",
       "    </tr>\n",
       "  </tbody>\n",
       "</table>\n",
       "</div>"
      ],
      "text/plain": [
       "     0    1    2    3    4\n",
       "0  NaN  NaN  NaN  NaN  NaN\n",
       "1  NaN  NaN  NaN  NaN  NaN\n",
       "2  NaN  NaN  NaN  NaN  NaN\n",
       "3  NaN  NaN  NaN  NaN  NaN\n",
       "4  NaN  NaN  NaN  NaN  NaN\n",
       "5  NaN  NaN  NaN  NaN  NaN\n",
       "6  NaN  NaN  NaN  NaN  NaN\n",
       "7  NaN  NaN  NaN  NaN  NaN\n",
       "8  NaN  NaN  NaN  NaN  NaN\n",
       "9  NaN  NaN  NaN  NaN  NaN"
      ]
     },
     "execution_count": 11,
     "metadata": {},
     "output_type": "execute_result"
    }
   ],
   "source": [
    "df"
   ]
  },
  {
   "cell_type": "code",
   "execution_count": 12,
   "id": "eb72a43d",
   "metadata": {},
   "outputs": [
    {
     "data": {
      "text/plain": [
       "(10, 5)"
      ]
     },
     "execution_count": 12,
     "metadata": {},
     "output_type": "execute_result"
    }
   ],
   "source": [
    "df.shape"
   ]
  },
  {
   "cell_type": "code",
   "execution_count": 18,
   "id": "3c65379e",
   "metadata": {},
   "outputs": [],
   "source": [
    "rows=df.shape[0]\n",
    "index = random.randint(0,rows)"
   ]
  },
  {
   "cell_type": "code",
   "execution_count": 17,
   "id": "283f8551",
   "metadata": {},
   "outputs": [
    {
     "data": {
      "text/plain": [
       "10"
      ]
     },
     "execution_count": 17,
     "metadata": {},
     "output_type": "execute_result"
    }
   ],
   "source": [
    "rows"
   ]
  },
  {
   "cell_type": "code",
   "execution_count": 21,
   "id": "52a946e3",
   "metadata": {},
   "outputs": [
    {
     "data": {
      "text/plain": [
       "nan"
      ]
     },
     "execution_count": 21,
     "metadata": {},
     "output_type": "execute_result"
    }
   ],
   "source": [
    "df[0][index]"
   ]
  },
  {
   "cell_type": "code",
   "execution_count": 26,
   "id": "f7faa8b2",
   "metadata": {},
   "outputs": [],
   "source": [
    "df = df.rename(columns={0: 'newName1', 1: 'path'})"
   ]
  },
  {
   "cell_type": "code",
   "execution_count": 27,
   "id": "0c5598db",
   "metadata": {},
   "outputs": [
    {
     "data": {
      "text/html": [
       "<div>\n",
       "<style scoped>\n",
       "    .dataframe tbody tr th:only-of-type {\n",
       "        vertical-align: middle;\n",
       "    }\n",
       "\n",
       "    .dataframe tbody tr th {\n",
       "        vertical-align: top;\n",
       "    }\n",
       "\n",
       "    .dataframe thead th {\n",
       "        text-align: right;\n",
       "    }\n",
       "</style>\n",
       "<table border=\"1\" class=\"dataframe\">\n",
       "  <thead>\n",
       "    <tr style=\"text-align: right;\">\n",
       "      <th></th>\n",
       "      <th>newName1</th>\n",
       "      <th>path</th>\n",
       "      <th>2</th>\n",
       "      <th>3</th>\n",
       "      <th>4</th>\n",
       "    </tr>\n",
       "  </thead>\n",
       "  <tbody>\n",
       "    <tr>\n",
       "      <th>0</th>\n",
       "      <td>NaN</td>\n",
       "      <td>NaN</td>\n",
       "      <td>NaN</td>\n",
       "      <td>NaN</td>\n",
       "      <td>NaN</td>\n",
       "    </tr>\n",
       "    <tr>\n",
       "      <th>1</th>\n",
       "      <td>NaN</td>\n",
       "      <td>NaN</td>\n",
       "      <td>NaN</td>\n",
       "      <td>NaN</td>\n",
       "      <td>NaN</td>\n",
       "    </tr>\n",
       "    <tr>\n",
       "      <th>2</th>\n",
       "      <td>NaN</td>\n",
       "      <td>NaN</td>\n",
       "      <td>NaN</td>\n",
       "      <td>NaN</td>\n",
       "      <td>NaN</td>\n",
       "    </tr>\n",
       "    <tr>\n",
       "      <th>3</th>\n",
       "      <td>NaN</td>\n",
       "      <td>NaN</td>\n",
       "      <td>NaN</td>\n",
       "      <td>NaN</td>\n",
       "      <td>NaN</td>\n",
       "    </tr>\n",
       "    <tr>\n",
       "      <th>4</th>\n",
       "      <td>NaN</td>\n",
       "      <td>NaN</td>\n",
       "      <td>NaN</td>\n",
       "      <td>NaN</td>\n",
       "      <td>NaN</td>\n",
       "    </tr>\n",
       "    <tr>\n",
       "      <th>5</th>\n",
       "      <td>NaN</td>\n",
       "      <td>NaN</td>\n",
       "      <td>NaN</td>\n",
       "      <td>NaN</td>\n",
       "      <td>NaN</td>\n",
       "    </tr>\n",
       "    <tr>\n",
       "      <th>6</th>\n",
       "      <td>NaN</td>\n",
       "      <td>NaN</td>\n",
       "      <td>NaN</td>\n",
       "      <td>NaN</td>\n",
       "      <td>NaN</td>\n",
       "    </tr>\n",
       "    <tr>\n",
       "      <th>7</th>\n",
       "      <td>NaN</td>\n",
       "      <td>NaN</td>\n",
       "      <td>NaN</td>\n",
       "      <td>NaN</td>\n",
       "      <td>NaN</td>\n",
       "    </tr>\n",
       "    <tr>\n",
       "      <th>8</th>\n",
       "      <td>NaN</td>\n",
       "      <td>NaN</td>\n",
       "      <td>NaN</td>\n",
       "      <td>NaN</td>\n",
       "      <td>NaN</td>\n",
       "    </tr>\n",
       "    <tr>\n",
       "      <th>9</th>\n",
       "      <td>NaN</td>\n",
       "      <td>NaN</td>\n",
       "      <td>NaN</td>\n",
       "      <td>NaN</td>\n",
       "      <td>NaN</td>\n",
       "    </tr>\n",
       "  </tbody>\n",
       "</table>\n",
       "</div>"
      ],
      "text/plain": [
       "  newName1 path    2    3    4\n",
       "0      NaN  NaN  NaN  NaN  NaN\n",
       "1      NaN  NaN  NaN  NaN  NaN\n",
       "2      NaN  NaN  NaN  NaN  NaN\n",
       "3      NaN  NaN  NaN  NaN  NaN\n",
       "4      NaN  NaN  NaN  NaN  NaN\n",
       "5      NaN  NaN  NaN  NaN  NaN\n",
       "6      NaN  NaN  NaN  NaN  NaN\n",
       "7      NaN  NaN  NaN  NaN  NaN\n",
       "8      NaN  NaN  NaN  NaN  NaN\n",
       "9      NaN  NaN  NaN  NaN  NaN"
      ]
     },
     "execution_count": 27,
     "metadata": {},
     "output_type": "execute_result"
    }
   ],
   "source": [
    "df"
   ]
  },
  {
   "cell_type": "code",
   "execution_count": 28,
   "id": "c03bf178",
   "metadata": {},
   "outputs": [
    {
     "data": {
      "text/plain": [
       "0    NaN\n",
       "1    NaN\n",
       "2    NaN\n",
       "3    NaN\n",
       "4    NaN\n",
       "5    NaN\n",
       "6    NaN\n",
       "7    NaN\n",
       "8    NaN\n",
       "9    NaN\n",
       "Name: path, dtype: object"
      ]
     },
     "execution_count": 28,
     "metadata": {},
     "output_type": "execute_result"
    }
   ],
   "source": [
    "df[\"path\"]"
   ]
  },
  {
   "cell_type": "code",
   "execution_count": 2,
   "id": "88fb69dc",
   "metadata": {},
   "outputs": [],
   "source": [
    "real_genre=['Abstract Expressionism']\n",
    "\n",
    "full_genre_list = ['Abstract Expressionism',\n",
    " 'Art Nouveau Modern',\n",
    " 'Baroque',\n",
    " 'Color Field Painting',\n",
    " 'Cubism',\n",
    " 'Expressionism',\n",
    " 'Impressionism',\n",
    " 'Naive Art Primitivism',\n",
    " 'Northern Renaissance',\n",
    " 'Pop Art',\n",
    " 'Post Impressionism',\n",
    " 'Realism',\n",
    " 'Rococo',\n",
    " 'Romanticism',\n",
    " 'Symbolism']\n",
    "# create new list removing real_genre to avoid duplicates"
   ]
  },
  {
   "cell_type": "code",
   "execution_count": 3,
   "id": "8f976607",
   "metadata": {},
   "outputs": [
    {
     "data": {
      "text/plain": [
       "['Abstract Expressionism',\n",
       " 'Art Nouveau Modern',\n",
       " 'Baroque',\n",
       " 'Color Field Painting',\n",
       " 'Cubism',\n",
       " 'Expressionism',\n",
       " 'Impressionism',\n",
       " 'Naive Art Primitivism',\n",
       " 'Northern Renaissance',\n",
       " 'Pop Art',\n",
       " 'Post Impressionism',\n",
       " 'Realism',\n",
       " 'Rococo',\n",
       " 'Romanticism',\n",
       " 'Symbolism']"
      ]
     },
     "execution_count": 3,
     "metadata": {},
     "output_type": "execute_result"
    }
   ],
   "source": [
    "full_genre_list"
   ]
  },
  {
   "cell_type": "code",
   "execution_count": 4,
   "id": "d532fa9b",
   "metadata": {},
   "outputs": [],
   "source": [
    "genre_list=full_genre_list.remove(real_genre[0])"
   ]
  },
  {
   "cell_type": "code",
   "execution_count": 5,
   "id": "1384c625",
   "metadata": {},
   "outputs": [
    {
     "data": {
      "text/plain": [
       "['Art Nouveau Modern',\n",
       " 'Baroque',\n",
       " 'Color Field Painting',\n",
       " 'Cubism',\n",
       " 'Expressionism',\n",
       " 'Impressionism',\n",
       " 'Naive Art Primitivism',\n",
       " 'Northern Renaissance',\n",
       " 'Pop Art',\n",
       " 'Post Impressionism',\n",
       " 'Realism',\n",
       " 'Rococo',\n",
       " 'Romanticism',\n",
       " 'Symbolism']"
      ]
     },
     "execution_count": 5,
     "metadata": {},
     "output_type": "execute_result"
    }
   ],
   "source": [
    "full_genre_list"
   ]
  },
  {
   "cell_type": "code",
   "execution_count": 3,
   "id": "2ea26414",
   "metadata": {},
   "outputs": [],
   "source": [
    "test_set = pd.read_csv(\"/home/quan/code/qnguyen-gh/smArt/smArt/data/4_class_v01.csv\")"
   ]
  },
  {
   "cell_type": "code",
   "execution_count": 4,
   "id": "5fdb1ec0",
   "metadata": {},
   "outputs": [],
   "source": [
    "rows=test_set.shape[0]\n",
    "index = random.randint(0,rows)"
   ]
  },
  {
   "cell_type": "code",
   "execution_count": 5,
   "id": "f7f2932a",
   "metadata": {},
   "outputs": [
    {
     "data": {
      "text/plain": [
       "6166"
      ]
     },
     "execution_count": 5,
     "metadata": {},
     "output_type": "execute_result"
    }
   ],
   "source": [
    "index"
   ]
  },
  {
   "cell_type": "code",
   "execution_count": 6,
   "id": "a6cb2f3f",
   "metadata": {},
   "outputs": [
    {
     "data": {
      "text/plain": [
       "'Romanticism'"
      ]
     },
     "execution_count": 6,
     "metadata": {},
     "output_type": "execute_result"
    }
   ],
   "source": [
    "real_genre = [test_set[\"genre\"][index]]\n",
    "real_genre[0]"
   ]
  },
  {
   "cell_type": "code",
   "execution_count": 7,
   "id": "f67aea98",
   "metadata": {},
   "outputs": [],
   "source": [
    "full_genre_list = ['Abstract Expressionism',\n",
    " 'Art Nouveau Modern',\n",
    " 'Baroque',\n",
    " 'Color Field Painting',\n",
    " 'Cubism',\n",
    " 'Expressionism',\n",
    " 'Impressionism',\n",
    " 'Naive Art Primitivism',\n",
    " 'Northern Renaissance',\n",
    " 'Pop Art',\n",
    " 'Post Impressionism',\n",
    " 'Realism',\n",
    " 'Rococo',\n",
    " 'Romanticism',\n",
    " 'Symbolism']"
   ]
  },
  {
   "cell_type": "code",
   "execution_count": 8,
   "id": "17c36fb7",
   "metadata": {},
   "outputs": [],
   "source": [
    "genre_list=full_genre_list.remove(real_genre[0])\n",
    "genre_list"
   ]
  },
  {
   "cell_type": "code",
   "execution_count": null,
   "id": "94c6dd7b",
   "metadata": {},
   "outputs": [],
   "source": []
  }
 ],
 "metadata": {
  "kernelspec": {
   "display_name": "Python 3 (ipykernel)",
   "language": "python",
   "name": "python3"
  },
  "language_info": {
   "codemirror_mode": {
    "name": "ipython",
    "version": 3
   },
   "file_extension": ".py",
   "mimetype": "text/x-python",
   "name": "python",
   "nbconvert_exporter": "python",
   "pygments_lexer": "ipython3",
   "version": "3.8.12"
  },
  "toc": {
   "base_numbering": 1,
   "nav_menu": {},
   "number_sections": true,
   "sideBar": true,
   "skip_h1_title": false,
   "title_cell": "Table of Contents",
   "title_sidebar": "Contents",
   "toc_cell": false,
   "toc_position": {},
   "toc_section_display": true,
   "toc_window_display": false
  }
 },
 "nbformat": 4,
 "nbformat_minor": 5
}
